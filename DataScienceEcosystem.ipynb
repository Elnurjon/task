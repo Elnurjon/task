{
 "cells": [
  {
   "cell_type": "markdown",
   "id": "b17439a2-7e8e-48bc-9ac0-7dffd9e8d87b",
   "metadata": {},
   "source": [
    "# Data Science Tools and Ecosystem"
   ]
  },
  {
   "cell_type": "markdown",
   "id": "e06a5deb-f10e-48c5-8371-52a20dee758f",
   "metadata": {},
   "source": [
    "## In this notebook, Data Science Tools and Ecosystem are summarized."
   ]
  },
  {
   "cell_type": "markdown",
   "id": "45105899-4624-4b1c-aa14-0de8a1b0d8b4",
   "metadata": {},
   "source": [
    "**Objectives:**\n",
    "\n",
    "- 3 commonly used languages for data science\n",
    "- 3 commonly used libraries in data science\n",
    "- 3 commonly used tools in data science"
   ]
  },
  {
   "cell_type": "markdown",
   "id": "63f961a4-7a5c-47bd-a5c5-3f1418f5859e",
   "metadata": {},
   "source": [
    "Some of the popular languages that Data Scientists use are:\n",
    "1. Python\n",
    "2. R\n",
    "3. SQL"
   ]
  },
  {
   "cell_type": "markdown",
   "id": "a16ff34c-cd4a-4f2f-a2c8-c731c387de1d",
   "metadata": {},
   "source": [
    "Some of the commonly used libraries used by Data Scientists include:\n",
    "1. Pandas\n",
    "2. NumPy\n",
    "3. MatPlotLib"
   ]
  },
  {
   "cell_type": "markdown",
   "id": "501ea895-2e66-4c59-97a8-8eff8507bcae",
   "metadata": {},
   "source": [
    "| Data Science Tools |\n",
    "|--------------------|\n",
    "| Jupyter Notebook |\n",
    "| RStudio |\n",
    "| Apache Zeppelin |"
   ]
  },
  {
   "cell_type": "markdown",
   "id": "2f3f835d-ad5d-4026-a6f4-d83671a7202e",
   "metadata": {},
   "source": [
    "### Below are a few examples of evaluating arithmetic expressions in Python"
   ]
  },
  {
   "cell_type": "markdown",
   "id": "3f32d53a-39d7-4c63-ae5c-335fd43530bb",
   "metadata": {},
   "source": [
    "#### This a simple arithmetic expression to mutiply then add integers:"
   ]
  },
  {
   "cell_type": "code",
   "execution_count": 8,
   "id": "ae65cad5-0aab-41e3-beac-02142695a13d",
   "metadata": {},
   "outputs": [
    {
     "data": {
      "text/plain": [
       "17"
      ]
     },
     "execution_count": 8,
     "metadata": {},
     "output_type": "execute_result"
    }
   ],
   "source": [
    "(3*4)+5"
   ]
  },
  {
   "cell_type": "markdown",
   "id": "8925a0b4-9ff3-4073-bf12-9f5f07bc9d3c",
   "metadata": {
    "jupyter": {
     "source_hidden": true
    }
   },
   "source": [
    "#### This will convert 200 minutes to hours by diving by 60"
   ]
  },
  {
   "cell_type": "code",
   "execution_count": 10,
   "id": "bc7d17a6-84e7-4c21-a915-0ad9eb7c5d4a",
   "metadata": {},
   "outputs": [
    {
     "data": {
      "text/plain": [
       "3.3333333333333335"
      ]
     },
     "execution_count": 10,
     "metadata": {},
     "output_type": "execute_result"
    }
   ],
   "source": [
    "200 / 60"
   ]
  },
  {
   "cell_type": "markdown",
   "id": "cb6204b1-be0f-4322-8d4f-adc241fc75d9",
   "metadata": {},
   "source": [
    "## Author\n",
    "Sobirov Elnurjon Toirjon o'g'li"
   ]
  }
 ],
 "metadata": {
  "kernelspec": {
   "display_name": "anaconda-2024.02-py310",
   "language": "python",
   "name": "conda-env-anaconda-2024.02-py310-py"
  },
  "language_info": {
   "codemirror_mode": {
    "name": "ipython",
    "version": 3
   },
   "file_extension": ".py",
   "mimetype": "text/x-python",
   "name": "python",
   "nbconvert_exporter": "python",
   "pygments_lexer": "ipython3",
   "version": "3.10.14"
  }
 },
 "nbformat": 4,
 "nbformat_minor": 5
}
